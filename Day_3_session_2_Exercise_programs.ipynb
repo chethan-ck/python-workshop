{
  "nbformat": 4,
  "nbformat_minor": 0,
  "metadata": {
    "colab": {
      "name": "Day 3 session 2 Exercise programs",
      "provenance": [],
      "authorship_tag": "ABX9TyOTl24LE425qHFa4QMOrUEr",
      "include_colab_link": true
    },
    "kernelspec": {
      "name": "python3",
      "display_name": "Python 3"
    }
  },
  "cells": [
    {
      "cell_type": "markdown",
      "metadata": {
        "id": "view-in-github",
        "colab_type": "text"
      },
      "source": [
        "<a href=\"https://colab.research.google.com/github/chethan-ck/python-workshop/blob/master/Day_3_session_2_Exercise_programs.ipynb\" target=\"_parent\"><img src=\"https://colab.research.google.com/assets/colab-badge.svg\" alt=\"Open In Colab\"/></a>"
      ]
    },
    {
      "cell_type": "markdown",
      "metadata": {
        "id": "Jwp1_WmcizIa",
        "colab_type": "text"
      },
      "source": [
        "#Write a Python Program to Print Multiplication Table of a number which got through keyboard."
      ]
    },
    {
      "cell_type": "code",
      "metadata": {
        "id": "YMDXKFzrisjj",
        "colab_type": "code",
        "colab": {
          "base_uri": "https://localhost:8080/",
          "height": 50
        },
        "outputId": "00ff39d8-6daa-40af-9102-29e16f3f2a9f"
      },
      "source": [
        "a=[]\n",
        "n=int(input(\"enter the value of n\"))\n",
        "for i in range(1,11):\n",
        "  b=i*n\n",
        "  a.append(str(b))\n",
        "print(','.join(a))"
      ],
      "execution_count": 1,
      "outputs": [
        {
          "output_type": "stream",
          "text": [
            "enter the value of n5\n",
            "5,10,15,20,25,30,35,40,45,50\n"
          ],
          "name": "stdout"
        }
      ]
    },
    {
      "cell_type": "markdown",
      "metadata": {
        "id": "VVnURlaZi9Dl",
        "colab_type": "text"
      },
      "source": [
        "#Write a Python Program to find the Armstrong Numbers between 1 and 2000 ( i.e 153 is amtrong numbers as 13+53+3**3=153 )"
      ]
    },
    {
      "cell_type": "code",
      "metadata": {
        "id": "i-Qhqs1rjArI",
        "colab_type": "code",
        "colab": {
          "base_uri": "https://localhost:8080/",
          "height": 34
        },
        "outputId": "51dff715-225c-4674-e03e-171ec1b864ad"
      },
      "source": [
        "a=[]\n",
        "for i in range(1,2001):\n",
        " temp=i\n",
        " d=0\n",
        " l=0\n",
        " s=0\n",
        " while(temp>0):\n",
        "  temp=temp//10\n",
        "  d=d+1\n",
        " temp=i\n",
        " while(temp>0):\n",
        "  l=temp%10\n",
        "  s=s+l**d\n",
        "  temp=temp//10\n",
        " if(s==i):\n",
        "  a.append(str(i))\n",
        "print(a)"
      ],
      "execution_count": 2,
      "outputs": [
        {
          "output_type": "stream",
          "text": [
            "['1', '2', '3', '4', '5', '6', '7', '8', '9', '153', '370', '371', '407', '1634']\n"
          ],
          "name": "stdout"
        }
      ]
    },
    {
      "cell_type": "markdown",
      "metadata": {
        "id": "jiHs1qsZjFeV",
        "colab_type": "text"
      },
      "source": [
        "#Write a python program to get the list of tuples (rollno, name) for n students by getting rollno and name through keyboard. Sort and print them as rollno wise and name wise both ascending and descending as well as alphabetical and dealphabetical orders"
      ]
    },
    {
      "cell_type": "code",
      "metadata": {
        "id": "1dQTP4JqjJ0W",
        "colab_type": "code",
        "colab": {
          "base_uri": "https://localhost:8080/",
          "height": 286
        },
        "outputId": "a0235e9f-543c-469f-a8ef-f2949c8e4a86"
      },
      "source": [
        "a=[]\n",
        "def inp():\n",
        "  rolno=input(\"enter the rolno\")\n",
        "  name=input(\"enter the name\")\n",
        "  return(rolno,name)\n",
        "n=int(input(\"Enter the value of n\"))\n",
        "for i in range(1,n+1):\n",
        "  a.append(inp())\n",
        "print(a)\n",
        "a.sort(key=lambda i:i[0])\n",
        "print(f'According to Rollno:Ascending order:{a}')\n",
        "print(f'According to Rollno:Descending order:{a[::-1]}')\n",
        "a.sort(key=lambda i:i[1])\n",
        "print(f'According to Name:Alphabeticallyorder:{a}')\n",
        "print(f'According to Name:Dealphabetically order:{a[::-1]}')"
      ],
      "execution_count": 3,
      "outputs": [
        {
          "output_type": "stream",
          "text": [
            "Enter the value of n5\n",
            "enter the rolno17\n",
            "enter the namechethan\n",
            "enter the rolno1\n",
            "enter the nameabhishek\n",
            "enter the rolno32\n",
            "enter the nameprajwal\n",
            "enter the rolno20\n",
            "enter the namerichard\n",
            "enter the rolno23\n",
            "enter the nameanirudh\n",
            "[('17', 'chethan'), ('1', 'abhishek'), ('32', 'prajwal'), ('20', 'richard'), ('23', 'anirudh')]\n",
            "According to Rollno:Ascending order:[('1', 'abhishek'), ('17', 'chethan'), ('20', 'richard'), ('23', 'anirudh'), ('32', 'prajwal')]\n",
            "According to Rollno:Descending order:[('32', 'prajwal'), ('23', 'anirudh'), ('20', 'richard'), ('17', 'chethan'), ('1', 'abhishek')]\n",
            "According to Name:Alphabeticallyorder:[('1', 'abhishek'), ('23', 'anirudh'), ('17', 'chethan'), ('32', 'prajwal'), ('20', 'richard')]\n",
            "According to Name:Dealphabetically order:[('20', 'richard'), ('32', 'prajwal'), ('17', 'chethan'), ('23', 'anirudh'), ('1', 'abhishek')]\n"
          ],
          "name": "stdout"
        }
      ]
    },
    {
      "cell_type": "markdown",
      "metadata": {
        "id": "OFJ_4VpgjbhV",
        "colab_type": "text"
      },
      "source": [
        "#Python Program to Detect if Two Strings are Anagrams ( They are the two strings which have same length and same words which may be different in their order)"
      ]
    },
    {
      "cell_type": "code",
      "metadata": {
        "id": "DzOveyYujfdO",
        "colab_type": "code",
        "colab": {
          "base_uri": "https://localhost:8080/",
          "height": 67
        },
        "outputId": "395c1aaa-ed2a-44c4-c348-7c150eb96e9d"
      },
      "source": [
        "s=input(\"Enter the first string:\")\n",
        "s2=input(\"Enter the second string:\")\n",
        "if(sorted(s)==sorted(s2)):\n",
        "  print(\"Strings are anagram\")\n",
        "else:\n",
        "  print(\"strings aren't anagram\")"
      ],
      "execution_count": 4,
      "outputs": [
        {
          "output_type": "stream",
          "text": [
            "Enter the first string:listen\n",
            "Enter the second string:silent\n",
            "Strings are anagram\n"
          ],
          "name": "stdout"
        }
      ]
    }
  ]
}