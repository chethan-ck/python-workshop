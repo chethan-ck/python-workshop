{
  "nbformat": 4,
  "nbformat_minor": 0,
  "metadata": {
    "colab": {
      "name": "Day 2 session 1 Exercises",
      "provenance": [],
      "collapsed_sections": [],
      "authorship_tag": "ABX9TyNLIs/WRd+avGwo8lvwj7hN",
      "include_colab_link": true
    },
    "kernelspec": {
      "name": "python3",
      "display_name": "Python 3"
    }
  },
  "cells": [
    {
      "cell_type": "markdown",
      "metadata": {
        "id": "view-in-github",
        "colab_type": "text"
      },
      "source": [
        "<a href=\"https://colab.research.google.com/github/chethan-ck/python-workshop/blob/master/Day_2_session_1_Exercises.ipynb\" target=\"_parent\"><img src=\"https://colab.research.google.com/assets/colab-badge.svg\" alt=\"Open In Colab\"/></a>"
      ]
    },
    {
      "cell_type": "markdown",
      "metadata": {
        "id": "2PA3BqSl-bCl",
        "colab_type": "text"
      },
      "source": [
        "#List exercises"
      ]
    },
    {
      "cell_type": "markdown",
      "metadata": {
        "id": "deQNledv-ivV",
        "colab_type": "text"
      },
      "source": [
        "#print multiples of 3 upto 200 using a list"
      ]
    },
    {
      "cell_type": "code",
      "metadata": {
        "id": "_mx8Rnp3-UzF",
        "colab_type": "code",
        "colab": {
          "base_uri": "https://localhost:8080/",
          "height": 70
        },
        "outputId": "62c923a7-e65f-43ba-de76-fc6aff32d24b"
      },
      "source": [
        "list=[]\n",
        "N=int(input(\"Enter the limit:\"))\n",
        "for i in range(1,N):\n",
        "  if i%3==0:\n",
        "    list.append(i)\n",
        "print(\"list:\",list)"
      ],
      "execution_count": null,
      "outputs": [
        {
          "output_type": "stream",
          "text": [
            "Enter the limit:200\n",
            "list: [3, 6, 9, 12, 15, 18, 21, 24, 27, 30, 33, 36, 39, 42, 45, 48, 51, 54, 57, 60, 63, 66, 69, 72, 75, 78, 81, 84, 87, 90, 93, 96, 99, 102, 105, 108, 111, 114, 117, 120, 123, 126, 129, 132, 135, 138, 141, 144, 147, 150, 153, 156, 159, 162, 165, 168, 171, 174, 177, 180, 183, 186, 189, 192, 195, 198]\n"
          ],
          "name": "stdout"
        }
      ]
    },
    {
      "cell_type": "markdown",
      "metadata": {
        "id": "iRFl9jD2-p_1",
        "colab_type": "text"
      },
      "source": [
        "#print the nos only divisable by 5 and 7 between 1000 and 2000 using a list( both inclusive)"
      ]
    },
    {
      "cell_type": "code",
      "metadata": {
        "id": "u2BTdI8H-tmV",
        "colab_type": "code",
        "colab": {
          "base_uri": "https://localhost:8080/",
          "height": 70
        },
        "outputId": "04d3d8a8-c2aa-42ad-c358-80d88e9ee668"
      },
      "source": [
        "arr=[]\n",
        "for i in range(1000,2000):\n",
        "  if i%5==0 or i%7==0:\n",
        "    arr.append(i)\n",
        "print(\"the numbers divisible by 5 and 7 in between 1000 and 2000 is:\\n\",arr)"
      ],
      "execution_count": null,
      "outputs": [
        {
          "output_type": "stream",
          "text": [
            "the numbers divisible by 5 and 7 in between 1000 and 2000 is:\n",
            " [1000, 1001, 1005, 1008, 1010, 1015, 1020, 1022, 1025, 1029, 1030, 1035, 1036, 1040, 1043, 1045, 1050, 1055, 1057, 1060, 1064, 1065, 1070, 1071, 1075, 1078, 1080, 1085, 1090, 1092, 1095, 1099, 1100, 1105, 1106, 1110, 1113, 1115, 1120, 1125, 1127, 1130, 1134, 1135, 1140, 1141, 1145, 1148, 1150, 1155, 1160, 1162, 1165, 1169, 1170, 1175, 1176, 1180, 1183, 1185, 1190, 1195, 1197, 1200, 1204, 1205, 1210, 1211, 1215, 1218, 1220, 1225, 1230, 1232, 1235, 1239, 1240, 1245, 1246, 1250, 1253, 1255, 1260, 1265, 1267, 1270, 1274, 1275, 1280, 1281, 1285, 1288, 1290, 1295, 1300, 1302, 1305, 1309, 1310, 1315, 1316, 1320, 1323, 1325, 1330, 1335, 1337, 1340, 1344, 1345, 1350, 1351, 1355, 1358, 1360, 1365, 1370, 1372, 1375, 1379, 1380, 1385, 1386, 1390, 1393, 1395, 1400, 1405, 1407, 1410, 1414, 1415, 1420, 1421, 1425, 1428, 1430, 1435, 1440, 1442, 1445, 1449, 1450, 1455, 1456, 1460, 1463, 1465, 1470, 1475, 1477, 1480, 1484, 1485, 1490, 1491, 1495, 1498, 1500, 1505, 1510, 1512, 1515, 1519, 1520, 1525, 1526, 1530, 1533, 1535, 1540, 1545, 1547, 1550, 1554, 1555, 1560, 1561, 1565, 1568, 1570, 1575, 1580, 1582, 1585, 1589, 1590, 1595, 1596, 1600, 1603, 1605, 1610, 1615, 1617, 1620, 1624, 1625, 1630, 1631, 1635, 1638, 1640, 1645, 1650, 1652, 1655, 1659, 1660, 1665, 1666, 1670, 1673, 1675, 1680, 1685, 1687, 1690, 1694, 1695, 1700, 1701, 1705, 1708, 1710, 1715, 1720, 1722, 1725, 1729, 1730, 1735, 1736, 1740, 1743, 1745, 1750, 1755, 1757, 1760, 1764, 1765, 1770, 1771, 1775, 1778, 1780, 1785, 1790, 1792, 1795, 1799, 1800, 1805, 1806, 1810, 1813, 1815, 1820, 1825, 1827, 1830, 1834, 1835, 1840, 1841, 1845, 1848, 1850, 1855, 1860, 1862, 1865, 1869, 1870, 1875, 1876, 1880, 1883, 1885, 1890, 1895, 1897, 1900, 1904, 1905, 1910, 1911, 1915, 1918, 1920, 1925, 1930, 1932, 1935, 1939, 1940, 1945, 1946, 1950, 1953, 1955, 1960, 1965, 1967, 1970, 1974, 1975, 1980, 1981, 1985, 1988, 1990, 1995]\n"
          ],
          "name": "stdout"
        }
      ]
    },
    {
      "cell_type": "markdown",
      "metadata": {
        "id": "QZxXUo19-yXN",
        "colab_type": "text"
      },
      "source": [
        "#Add the n number of names in a list and print them alphabetically and reverse alphabetically."
      ]
    },
    {
      "cell_type": "code",
      "metadata": {
        "id": "pXv2e1Bt-11H",
        "colab_type": "code",
        "colab": {
          "base_uri": "https://localhost:8080/",
          "height": 134
        },
        "outputId": "db793c13-54af-4d8c-978c-5bde9b15e092"
      },
      "source": [
        "my_str = input(\"Enter the string:\")\n",
        "\n",
        "words = my_str.split()\n",
        "words.sort()\n",
        "print(\"The sorted words are:\")\n",
        "for word in words:\n",
        "  \n",
        "  print(word)"
      ],
      "execution_count": null,
      "outputs": [
        {
          "output_type": "stream",
          "text": [
            "Enter the string:It is an sorting example\n",
            "The sorted words are:\n",
            "It\n",
            "an\n",
            "example\n",
            "is\n",
            "sorting\n"
          ],
          "name": "stdout"
        }
      ]
    },
    {
      "cell_type": "markdown",
      "metadata": {
        "id": "NtEL52JE-_SF",
        "colab_type": "text"
      },
      "source": [
        "#Print perfect squares and divisible by 5 between 500 and 1000( (both inclusive) using list"
      ]
    },
    {
      "cell_type": "code",
      "metadata": {
        "id": "smvwTDK-_C3W",
        "colab_type": "code",
        "colab": {
          "base_uri": "https://localhost:8080/",
          "height": 87
        },
        "outputId": "3d521329-8f74-4cdc-d10a-557e3e7d4fce"
      },
      "source": [
        "l=int(input(\"Enter lower range: \"))\n",
        "u=int(input(\"Enter upper range: \"))\n",
        "a=[]\n",
        "a=[x for x in range(l,u+1) if (int(x**0.5))**2==x or x % 5 == 0]\n",
        "print(a)"
      ],
      "execution_count": null,
      "outputs": [
        {
          "output_type": "stream",
          "text": [
            "Enter lower range: 500\n",
            "Enter upper range: 1000\n",
            "[500, 505, 510, 515, 520, 525, 529, 530, 535, 540, 545, 550, 555, 560, 565, 570, 575, 576, 580, 585, 590, 595, 600, 605, 610, 615, 620, 625, 630, 635, 640, 645, 650, 655, 660, 665, 670, 675, 676, 680, 685, 690, 695, 700, 705, 710, 715, 720, 725, 729, 730, 735, 740, 745, 750, 755, 760, 765, 770, 775, 780, 784, 785, 790, 795, 800, 805, 810, 815, 820, 825, 830, 835, 840, 841, 845, 850, 855, 860, 865, 870, 875, 880, 885, 890, 895, 900, 905, 910, 915, 920, 925, 930, 935, 940, 945, 950, 955, 960, 961, 965, 970, 975, 980, 985, 990, 995, 1000]\n"
          ],
          "name": "stdout"
        }
      ]
    },
    {
      "cell_type": "markdown",
      "metadata": {
        "id": "juLg_C75_Jal",
        "colab_type": "text"
      },
      "source": [
        "#Calculate the Average of the numbers in a List by getting the elements of list from keyboard "
      ]
    },
    {
      "cell_type": "code",
      "metadata": {
        "id": "Lg-myyf2_NHM",
        "colab_type": "code",
        "colab": {
          "base_uri": "https://localhost:8080/",
          "height": 151
        },
        "outputId": "8f33c723-e773-4243-8e93-02d180c9081b"
      },
      "source": [
        "n=int(input(\"Enter the number of elements to be inserted: \"))\n",
        "a=[]\n",
        "for i in range(0,n):\n",
        "    elem=int(input(\"Enter element: \"))\n",
        "    a.append(elem)\n",
        "avg=sum(a)/n\n",
        "print(\"Average of elements in the list\",round(avg,2))"
      ],
      "execution_count": null,
      "outputs": [
        {
          "output_type": "stream",
          "text": [
            "Enter the number of elements to be inserted: 6\n",
            "Enter element: 96\n",
            "Enter element: 45\n",
            "Enter element: 32\n",
            "Enter element: 56\n",
            "Enter element: 76\n",
            "Enter element: 31\n",
            "Average of elements in the list 56.0\n"
          ],
          "name": "stdout"
        }
      ]
    },
    {
      "cell_type": "markdown",
      "metadata": {
        "id": "mmzRYmCK_Vac",
        "colab_type": "text"
      },
      "source": [
        "#Print lists of odd,even and multiples of 5 numbers from 1 to 1000 using list comprehension"
      ]
    },
    {
      "cell_type": "code",
      "metadata": {
        "id": "Bh6843uA_ZBE",
        "colab_type": "code",
        "colab": {
          "base_uri": "https://localhost:8080/",
          "height": 54
        },
        "outputId": "29863a84-f8c5-40b9-f2fb-74be6984676c"
      },
      "source": [
        "number_list = [ x for x in range(1,1000) if x % 2 == 0 or x % 2 == 1 or x % 5 == 0 ]\n",
        "print(number_list)"
      ],
      "execution_count": null,
      "outputs": [
        {
          "output_type": "stream",
          "text": [
            "[1, 2, 3, 4, 5, 6, 7, 8, 9, 10, 11, 12, 13, 14, 15, 16, 17, 18, 19, 20, 21, 22, 23, 24, 25, 26, 27, 28, 29, 30, 31, 32, 33, 34, 35, 36, 37, 38, 39, 40, 41, 42, 43, 44, 45, 46, 47, 48, 49, 50, 51, 52, 53, 54, 55, 56, 57, 58, 59, 60, 61, 62, 63, 64, 65, 66, 67, 68, 69, 70, 71, 72, 73, 74, 75, 76, 77, 78, 79, 80, 81, 82, 83, 84, 85, 86, 87, 88, 89, 90, 91, 92, 93, 94, 95, 96, 97, 98, 99, 100, 101, 102, 103, 104, 105, 106, 107, 108, 109, 110, 111, 112, 113, 114, 115, 116, 117, 118, 119, 120, 121, 122, 123, 124, 125, 126, 127, 128, 129, 130, 131, 132, 133, 134, 135, 136, 137, 138, 139, 140, 141, 142, 143, 144, 145, 146, 147, 148, 149, 150, 151, 152, 153, 154, 155, 156, 157, 158, 159, 160, 161, 162, 163, 164, 165, 166, 167, 168, 169, 170, 171, 172, 173, 174, 175, 176, 177, 178, 179, 180, 181, 182, 183, 184, 185, 186, 187, 188, 189, 190, 191, 192, 193, 194, 195, 196, 197, 198, 199, 200, 201, 202, 203, 204, 205, 206, 207, 208, 209, 210, 211, 212, 213, 214, 215, 216, 217, 218, 219, 220, 221, 222, 223, 224, 225, 226, 227, 228, 229, 230, 231, 232, 233, 234, 235, 236, 237, 238, 239, 240, 241, 242, 243, 244, 245, 246, 247, 248, 249, 250, 251, 252, 253, 254, 255, 256, 257, 258, 259, 260, 261, 262, 263, 264, 265, 266, 267, 268, 269, 270, 271, 272, 273, 274, 275, 276, 277, 278, 279, 280, 281, 282, 283, 284, 285, 286, 287, 288, 289, 290, 291, 292, 293, 294, 295, 296, 297, 298, 299, 300, 301, 302, 303, 304, 305, 306, 307, 308, 309, 310, 311, 312, 313, 314, 315, 316, 317, 318, 319, 320, 321, 322, 323, 324, 325, 326, 327, 328, 329, 330, 331, 332, 333, 334, 335, 336, 337, 338, 339, 340, 341, 342, 343, 344, 345, 346, 347, 348, 349, 350, 351, 352, 353, 354, 355, 356, 357, 358, 359, 360, 361, 362, 363, 364, 365, 366, 367, 368, 369, 370, 371, 372, 373, 374, 375, 376, 377, 378, 379, 380, 381, 382, 383, 384, 385, 386, 387, 388, 389, 390, 391, 392, 393, 394, 395, 396, 397, 398, 399, 400, 401, 402, 403, 404, 405, 406, 407, 408, 409, 410, 411, 412, 413, 414, 415, 416, 417, 418, 419, 420, 421, 422, 423, 424, 425, 426, 427, 428, 429, 430, 431, 432, 433, 434, 435, 436, 437, 438, 439, 440, 441, 442, 443, 444, 445, 446, 447, 448, 449, 450, 451, 452, 453, 454, 455, 456, 457, 458, 459, 460, 461, 462, 463, 464, 465, 466, 467, 468, 469, 470, 471, 472, 473, 474, 475, 476, 477, 478, 479, 480, 481, 482, 483, 484, 485, 486, 487, 488, 489, 490, 491, 492, 493, 494, 495, 496, 497, 498, 499, 500, 501, 502, 503, 504, 505, 506, 507, 508, 509, 510, 511, 512, 513, 514, 515, 516, 517, 518, 519, 520, 521, 522, 523, 524, 525, 526, 527, 528, 529, 530, 531, 532, 533, 534, 535, 536, 537, 538, 539, 540, 541, 542, 543, 544, 545, 546, 547, 548, 549, 550, 551, 552, 553, 554, 555, 556, 557, 558, 559, 560, 561, 562, 563, 564, 565, 566, 567, 568, 569, 570, 571, 572, 573, 574, 575, 576, 577, 578, 579, 580, 581, 582, 583, 584, 585, 586, 587, 588, 589, 590, 591, 592, 593, 594, 595, 596, 597, 598, 599, 600, 601, 602, 603, 604, 605, 606, 607, 608, 609, 610, 611, 612, 613, 614, 615, 616, 617, 618, 619, 620, 621, 622, 623, 624, 625, 626, 627, 628, 629, 630, 631, 632, 633, 634, 635, 636, 637, 638, 639, 640, 641, 642, 643, 644, 645, 646, 647, 648, 649, 650, 651, 652, 653, 654, 655, 656, 657, 658, 659, 660, 661, 662, 663, 664, 665, 666, 667, 668, 669, 670, 671, 672, 673, 674, 675, 676, 677, 678, 679, 680, 681, 682, 683, 684, 685, 686, 687, 688, 689, 690, 691, 692, 693, 694, 695, 696, 697, 698, 699, 700, 701, 702, 703, 704, 705, 706, 707, 708, 709, 710, 711, 712, 713, 714, 715, 716, 717, 718, 719, 720, 721, 722, 723, 724, 725, 726, 727, 728, 729, 730, 731, 732, 733, 734, 735, 736, 737, 738, 739, 740, 741, 742, 743, 744, 745, 746, 747, 748, 749, 750, 751, 752, 753, 754, 755, 756, 757, 758, 759, 760, 761, 762, 763, 764, 765, 766, 767, 768, 769, 770, 771, 772, 773, 774, 775, 776, 777, 778, 779, 780, 781, 782, 783, 784, 785, 786, 787, 788, 789, 790, 791, 792, 793, 794, 795, 796, 797, 798, 799, 800, 801, 802, 803, 804, 805, 806, 807, 808, 809, 810, 811, 812, 813, 814, 815, 816, 817, 818, 819, 820, 821, 822, 823, 824, 825, 826, 827, 828, 829, 830, 831, 832, 833, 834, 835, 836, 837, 838, 839, 840, 841, 842, 843, 844, 845, 846, 847, 848, 849, 850, 851, 852, 853, 854, 855, 856, 857, 858, 859, 860, 861, 862, 863, 864, 865, 866, 867, 868, 869, 870, 871, 872, 873, 874, 875, 876, 877, 878, 879, 880, 881, 882, 883, 884, 885, 886, 887, 888, 889, 890, 891, 892, 893, 894, 895, 896, 897, 898, 899, 900, 901, 902, 903, 904, 905, 906, 907, 908, 909, 910, 911, 912, 913, 914, 915, 916, 917, 918, 919, 920, 921, 922, 923, 924, 925, 926, 927, 928, 929, 930, 931, 932, 933, 934, 935, 936, 937, 938, 939, 940, 941, 942, 943, 944, 945, 946, 947, 948, 949, 950, 951, 952, 953, 954, 955, 956, 957, 958, 959, 960, 961, 962, 963, 964, 965, 966, 967, 968, 969, 970, 971, 972, 973, 974, 975, 976, 977, 978, 979, 980, 981, 982, 983, 984, 985, 986, 987, 988, 989, 990, 991, 992, 993, 994, 995, 996, 997, 998, 999]\n"
          ],
          "name": "stdout"
        }
      ]
    },
    {
      "cell_type": "markdown",
      "metadata": {
        "id": "6xtS-bzg_dT1",
        "colab_type": "text"
      },
      "source": [
        "#Tuple exercises"
      ]
    },
    {
      "cell_type": "markdown",
      "metadata": {
        "id": "SwxW3R4g_fH9",
        "colab_type": "text"
      },
      "source": [
        "#Python Program to Create a List of Tuples with the First Element as the Number and Second Element as the Square of the Number"
      ]
    },
    {
      "cell_type": "code",
      "metadata": {
        "id": "NyARONil_is2",
        "colab_type": "code",
        "colab": {
          "base_uri": "https://localhost:8080/",
          "height": 87
        },
        "outputId": "73238ca8-60b5-48aa-b51d-9b5988447f05"
      },
      "source": [
        "l_range=int(input(\"Enter the lower range:\"))\n",
        "u_range=int(input(\"Enter the upper range:\"))\n",
        "a=[(x,x**2) for x in range(l_range,u_range+1)]\n",
        "print(a)"
      ],
      "execution_count": null,
      "outputs": [
        {
          "output_type": "stream",
          "text": [
            "Enter the lower range:1\n",
            "Enter the upper range:20\n",
            "[(1, 1), (2, 4), (3, 9), (4, 16), (5, 25), (6, 36), (7, 49), (8, 64), (9, 81), (10, 100), (11, 121), (12, 144), (13, 169), (14, 196), (15, 225), (16, 256), (17, 289), (18, 324), (19, 361), (20, 400)]\n"
          ],
          "name": "stdout"
        }
      ]
    },
    {
      "cell_type": "markdown",
      "metadata": {
        "id": "JwiFp5TaChNN",
        "colab_type": "text"
      },
      "source": [
        "#Write python program to get a list of tuples of Rollno,Name for 5 students through keyboard and sort them Rollno wise ascending order"
      ]
    },
    {
      "cell_type": "code",
      "metadata": {
        "id": "hm2TJO2VCkb3",
        "colab_type": "code",
        "colab": {
          "base_uri": "https://localhost:8080/",
          "height": 202
        },
        "outputId": "d525ea4a-28e5-41cb-f9f1-52ebc072d27f"
      },
      "source": [
        "List=[]\n",
        "for i in range(0,5):\n",
        "    usn=input('Enter RollNumber: ')\n",
        "    name=input('Enter Student Name: ')\n",
        "    List.append((name,usn))\n",
        " \n",
        "print(sorted(List, key = lambda x: x[1]))"
      ],
      "execution_count": null,
      "outputs": [
        {
          "output_type": "stream",
          "text": [
            "Enter RollNumber: 1\n",
            "Enter Student Name: abhishek\n",
            "Enter RollNumber: 17\n",
            "Enter Student Name: chethan\n",
            "Enter RollNumber: 20\n",
            "Enter Student Name: richard\n",
            "Enter RollNumber: 23\n",
            "Enter Student Name: anirudh\n",
            "Enter RollNumber: 32\n",
            "Enter Student Name: prajwal\n",
            "[('abhishek', '1'), ('chethan', '17'), ('richard', '20'), ('anirudh', '23'), ('prajwal', '32')]\n"
          ],
          "name": "stdout"
        }
      ]
    },
    {
      "cell_type": "markdown",
      "metadata": {
        "id": "sV_HLJGoDNeo",
        "colab_type": "text"
      },
      "source": [
        "#Write python program to get a list of tuples of Rollno,Name for 5 students through keyboard and sort them by Rollno wise descending order"
      ]
    },
    {
      "cell_type": "code",
      "metadata": {
        "id": "0VS_rjGWDRZn",
        "colab_type": "code",
        "colab": {
          "base_uri": "https://localhost:8080/",
          "height": 202
        },
        "outputId": "8d06ae47-c5d3-41c0-aebb-bf936be635cf"
      },
      "source": [
        "def Sort_Tuple(tup):  \n",
        "    lst = len(tup)  \n",
        "    for i in range(0, lst):  \n",
        "        for j in range(0, lst-i-1):  \n",
        "            if (tup[j][0] < tup[j + 1][0]):  \n",
        "                temp = tup[j]  \n",
        "                tup[j]= tup[j + 1]  \n",
        "                tup[j + 1]= temp  \n",
        "    return tup\n",
        "\n",
        "l = [(int(input(\"Enter roll no. of student {0} : \".format(i+1))),input(\"Enter name of student {0} : \".format(i+1))) for i in range(5)]\n",
        "print(Sort_Tuple(l))"
      ],
      "execution_count": null,
      "outputs": [
        {
          "output_type": "stream",
          "text": [
            "Enter roll no. of student 1 : 1\n",
            "Enter name of student 1 : abhishek\n",
            "Enter roll no. of student 2 : 17\n",
            "Enter name of student 2 : chethan\n",
            "Enter roll no. of student 3 : 20\n",
            "Enter name of student 3 : richard\n",
            "Enter roll no. of student 4 : 32\n",
            "Enter name of student 4 : prajwal\n",
            "Enter roll no. of student 5 : 23\n",
            "Enter name of student 5 : anirudh\n",
            "[(32, 'prajwal'), (23, 'anirudh'), (20, 'richard'), (17, 'chethan'), (1, 'abhishek')]\n"
          ],
          "name": "stdout"
        }
      ]
    },
    {
      "cell_type": "markdown",
      "metadata": {
        "id": "r790e4NZDhw7",
        "colab_type": "text"
      },
      "source": [
        "#Write python program to get a list of tuples of Rollno,Name for 5 students through keyboard and sort them by Name wise ascending order"
      ]
    },
    {
      "cell_type": "code",
      "metadata": {
        "id": "pYbRsj0QDlfP",
        "colab_type": "code",
        "colab": {
          "base_uri": "https://localhost:8080/",
          "height": 202
        },
        "outputId": "8d77eac2-2c3b-4598-e1d4-2d2821a85420"
      },
      "source": [
        "List=[]\n",
        "for i in range(0,5):\n",
        "    usn=input('Enter RollNumber: ')\n",
        "    name=input('Enter Student Name: ')\n",
        "    List.append((usn,name))\n",
        " \n",
        "print(sorted(List, key= lambda x: x[1]))"
      ],
      "execution_count": null,
      "outputs": [
        {
          "output_type": "stream",
          "text": [
            "Enter RollNumber: 1\n",
            "Enter Student Name: abhishek\n",
            "Enter RollNumber: 17\n",
            "Enter Student Name: chethan\n",
            "Enter RollNumber: 32\n",
            "Enter Student Name: prajwal\n",
            "Enter RollNumber: 23\n",
            "Enter Student Name: anirudh\n",
            "Enter RollNumber: 20\n",
            "Enter Student Name: richard\n",
            "[('1', 'abhishek'), ('23', 'anirudh'), ('17', 'chethan'), ('32', 'prajwal'), ('20', 'richard')]\n"
          ],
          "name": "stdout"
        }
      ]
    },
    {
      "cell_type": "markdown",
      "metadata": {
        "id": "_T9dH1CYDzIz",
        "colab_type": "text"
      },
      "source": [
        "#Write python program to get a list of tuples of Rollno,Name for 5 students through keyboard and sort them by Name wise descending order"
      ]
    },
    {
      "cell_type": "code",
      "metadata": {
        "id": "aB4IZkZVD3um",
        "colab_type": "code",
        "colab": {
          "base_uri": "https://localhost:8080/",
          "height": 202
        },
        "outputId": "f71f1737-02d5-438e-9a92-9eb8468be6d2"
      },
      "source": [
        "def Sort_Tuple(tup):  \n",
        "    lst = len(tup)  \n",
        "    for i in range(0, lst):  \n",
        "        for j in range(0, lst-i-1):  \n",
        "            if (len(tup[j][1]) < len(tup[j + 1][1])):  \n",
        "                temp = tup[j]  \n",
        "                tup[j]= tup[j + 1]  \n",
        "                tup[j + 1]= temp  \n",
        "    return tup\n",
        "\n",
        "l = [(int(input(\"Enter roll no. of student {0} : \".format(i+1))),input(\"Enter name of student {0} : \".format(i+1))) for i in range(5)]\n",
        "print(Sort_Tuple(l))"
      ],
      "execution_count": null,
      "outputs": [
        {
          "output_type": "stream",
          "text": [
            "Enter roll no. of student 1 : 17\n",
            "Enter name of student 1 : chethan\n",
            "Enter roll no. of student 2 : 1\n",
            "Enter name of student 2 : abhishek\n",
            "Enter roll no. of student 3 : 20\n",
            "Enter name of student 3 : richard\n",
            "Enter roll no. of student 4 : 32\n",
            "Enter name of student 4 : prajwal\n",
            "Enter roll no. of student 5 : 23\n",
            "Enter name of student 5 : anirudh\n",
            "[(1, 'abhishek'), (17, 'chethan'), (20, 'richard'), (32, 'prajwal'), (23, 'anirudh')]\n"
          ],
          "name": "stdout"
        }
      ]
    }
  ]
}