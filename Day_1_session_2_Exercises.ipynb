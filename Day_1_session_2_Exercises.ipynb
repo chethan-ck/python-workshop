{
  "nbformat": 4,
  "nbformat_minor": 0,
  "metadata": {
    "colab": {
      "name": "Day 1 session 2 Exercises",
      "provenance": [],
      "collapsed_sections": [],
      "authorship_tag": "ABX9TyNP/Iqyfv/svdq8M2TT3QQ2",
      "include_colab_link": true
    },
    "kernelspec": {
      "name": "python3",
      "display_name": "Python 3"
    }
  },
  "cells": [
    {
      "cell_type": "markdown",
      "metadata": {
        "id": "view-in-github",
        "colab_type": "text"
      },
      "source": [
        "<a href=\"https://colab.research.google.com/github/chethan-ck/python-workshop/blob/master/Day_1_session_2_Exercises.ipynb\" target=\"_parent\"><img src=\"https://colab.research.google.com/assets/colab-badge.svg\" alt=\"Open In Colab\"/></a>"
      ]
    },
    {
      "cell_type": "markdown",
      "metadata": {
        "id": "tOM03RRc9AyH",
        "colab_type": "text"
      },
      "source": [
        "#Write a program to print the triangle\n",
        "#i/p 4\n",
        "#1\n",
        "#2 3\n",
        "#3 4 5\n",
        "#4 5 6 7"
      ]
    },
    {
      "cell_type": "code",
      "metadata": {
        "id": "4_DoVHDm9HQc",
        "colab_type": "code",
        "colab": {
          "base_uri": "https://localhost:8080/",
          "height": 101
        },
        "outputId": "7ceb0c54-41c8-4a9b-f554-5cf2406fd553"
      },
      "source": [
        "n=4;\n",
        "for i in range(0,n+1):\n",
        "  j=i\n",
        "  for k in range(i):    \n",
        "    print(j,end=\" \")\n",
        "    j+=1\n",
        "\n",
        "  print(\"\")"
      ],
      "execution_count": null,
      "outputs": [
        {
          "output_type": "stream",
          "text": [
            "\n",
            "1 \n",
            "2 3 \n",
            "3 4 5 \n",
            "4 5 6 7 \n"
          ],
          "name": "stdout"
        }
      ]
    },
    {
      "cell_type": "markdown",
      "metadata": {
        "id": "H-MoM6pu9LTc",
        "colab_type": "text"
      },
      "source": [
        "Enter number 4¶\n",
        "#*\n",
        "#* *\n",
        "#* * *\n",
        "#* * * *"
      ]
    },
    {
      "cell_type": "code",
      "metadata": {
        "id": "w_jy1BFh9WxT",
        "colab_type": "code",
        "colab": {
          "base_uri": "https://localhost:8080/",
          "height": 84
        },
        "outputId": "6432267e-45ce-4d89-f0f6-954ab2f6712e"
      },
      "source": [
        "rows = 4\n",
        "for i in range(0, rows):\n",
        "    for j in range(0, i + 1):\n",
        "        print(\"*\", end=' ')\n",
        "\n",
        "    print(\"\\r\")"
      ],
      "execution_count": null,
      "outputs": [
        {
          "output_type": "stream",
          "text": [
            "* \r\n",
            "* * \r\n",
            "* * * \r\n",
            "* * * * \r\n"
          ],
          "name": "stdout"
        }
      ]
    },
    {
      "cell_type": "markdown",
      "metadata": {
        "id": "LqS6-5629aMr",
        "colab_type": "text"
      },
      "source": [
        "#Enter number 5\n",
        "#5\n",
        "#4 5\n",
        "#3 4 5\n",
        "#2 3 4 5\n",
        "#1 2 3 4 5"
      ]
    },
    {
      "cell_type": "code",
      "metadata": {
        "id": "eRIovyQB9hM8",
        "colab_type": "code",
        "colab": {
          "base_uri": "https://localhost:8080/",
          "height": 101
        },
        "outputId": "d171a5af-015f-49d2-8555-ef9d21c592e9"
      },
      "source": [
        "n=5\n",
        "for i in range(n+1,1,-1):\n",
        "  i-=1\n",
        "  for j in range(i,n+1):\n",
        "        print(j, end=\" \")\n",
        "        j+=1\n",
        "  print('')"
      ],
      "execution_count": null,
      "outputs": [
        {
          "output_type": "stream",
          "text": [
            "5 \n",
            "4 5 \n",
            "3 4 5 \n",
            "2 3 4 5 \n",
            "1 2 3 4 5 \n"
          ],
          "name": "stdout"
        }
      ]
    },
    {
      "cell_type": "markdown",
      "metadata": {
        "id": "Xek2T0FX9kfl",
        "colab_type": "text"
      },
      "source": [
        "#Enter number 5\n",
        "#5 4 3 2 1\n",
        "#4 3 2 1\n",
        "#3 2 1\n",
        "#2 1\n",
        "#1"
      ]
    },
    {
      "cell_type": "code",
      "metadata": {
        "id": "gKNriqTO9q7c",
        "colab_type": "code",
        "colab": {
          "base_uri": "https://localhost:8080/",
          "height": 118
        },
        "outputId": "f9af3a23-3aac-44f0-a1b9-c0f7a10be02f"
      },
      "source": [
        "rows = 5\n",
        "for i in range(0, rows + 1):\n",
        "    for j in range(rows - i, 0, -1):\n",
        "        print(j, end=' ')\n",
        "    print()"
      ],
      "execution_count": null,
      "outputs": [
        {
          "output_type": "stream",
          "text": [
            "5 4 3 2 1 \n",
            "4 3 2 1 \n",
            "3 2 1 \n",
            "2 1 \n",
            "1 \n",
            "\n"
          ],
          "name": "stdout"
        }
      ]
    },
    {
      "cell_type": "markdown",
      "metadata": {
        "id": "I1t7rM9B9uf6",
        "colab_type": "text"
      },
      "source": [
        "#Enter number 4\n",
        "#1 2 3 4\n",
        "#2 3 4\n",
        "#3 4\n",
        "#4\n",
        "#3 4\n",
        "#2 3 4\n",
        "#1 2 3 4"
      ]
    },
    {
      "cell_type": "code",
      "metadata": {
        "id": "ka2ds1Tx9296",
        "colab_type": "code",
        "colab": {
          "base_uri": "https://localhost:8080/",
          "height": 134
        },
        "outputId": "2e91ee05-03c8-4bc6-81e0-8309112986f1"
      },
      "source": [
        "n=4;\n",
        "\n",
        "for i in range(0,n,1): \n",
        "  for j in range(i+1,n+1,1):     \n",
        "    print(j,end=\" \")\n",
        "  print(\"\") \n",
        "\n",
        "for i in range(n-1,0,-1): \n",
        "  for j in range(i,n+1):     \n",
        "    print(j,end=\" \")\n",
        "  print(\" \")"
      ],
      "execution_count": null,
      "outputs": [
        {
          "output_type": "stream",
          "text": [
            "1 2 3 4 \n",
            "2 3 4 \n",
            "3 4 \n",
            "4 \n",
            "3 4  \n",
            "2 3 4  \n",
            "1 2 3 4  \n"
          ],
          "name": "stdout"
        }
      ]
    },
    {
      "cell_type": "markdown",
      "metadata": {
        "id": "nVPT2X4_96HK",
        "colab_type": "text"
      },
      "source": [
        "#Find the length of a string without using len functions"
      ]
    },
    {
      "cell_type": "code",
      "metadata": {
        "id": "FSFphoMy995i",
        "colab_type": "code",
        "colab": {
          "base_uri": "https://localhost:8080/",
          "height": 50
        },
        "outputId": "14ef4e4a-5bb6-4a76-bad6-5b00bb66ce13"
      },
      "source": [
        "str = input(\"Enter a string: \")\n",
        "\n",
        "# counter variable to count the character in a string\n",
        "counter = 0\n",
        "for s in str:\n",
        "      counter = counter+1\n",
        "print(\"Length of the input string is:\", counter)"
      ],
      "execution_count": null,
      "outputs": [
        {
          "output_type": "stream",
          "text": [
            "Enter a string: chethan ck\n",
            "Length of the input string is: 10\n"
          ],
          "name": "stdout"
        }
      ]
    },
    {
      "cell_type": "markdown",
      "metadata": {
        "id": "46D0Ybk0-EYi",
        "colab_type": "text"
      },
      "source": [
        "#Find the no of words and characters in a string"
      ]
    },
    {
      "cell_type": "code",
      "metadata": {
        "id": "_hqPI6MF-H1V",
        "colab_type": "code",
        "colab": {
          "base_uri": "https://localhost:8080/",
          "height": 101
        },
        "outputId": "8fdd79f0-96e9-4aab-b44a-cb0850716ae3"
      },
      "source": [
        "string=input(\"Enter string:\")\n",
        "char=0\n",
        "word=1\n",
        "for i in string:\n",
        "      char=char+1\n",
        "      if(i==' '):\n",
        "            word=word+1\n",
        "print(\"Number of words in the string:\")\n",
        "print(word)\n",
        "print(\"Number of characters in the string:\")\n",
        "print(char)"
      ],
      "execution_count": null,
      "outputs": [
        {
          "output_type": "stream",
          "text": [
            "Enter string:chethan ck\n",
            "Number of words in the string:\n",
            "2\n",
            "Number of characters in the string:\n",
            "10\n"
          ],
          "name": "stdout"
        }
      ]
    },
    {
      "cell_type": "markdown",
      "metadata": {
        "id": "BwAt1B13-ONy",
        "colab_type": "text"
      },
      "source": [
        "#Find the no of occurrences of a word in a string"
      ]
    },
    {
      "cell_type": "code",
      "metadata": {
        "id": "kk8cZtTN-SWT",
        "colab_type": "code",
        "colab": {
          "base_uri": "https://localhost:8080/",
          "height": 34
        },
        "outputId": "4dca90a6-f75a-4ab0-e7d1-fabb79b5ade4"
      },
      "source": [
        "# define string\n",
        "string = \"Python is awesome, isn't it?\"\n",
        "substring = \"is\"\n",
        "\n",
        "count = string.count(substring)\n",
        "\n",
        "# print count\n",
        "print(\"The count is:\", count)"
      ],
      "execution_count": null,
      "outputs": [
        {
          "output_type": "stream",
          "text": [
            "The count is: 2\n"
          ],
          "name": "stdout"
        }
      ]
    }
  ]
}