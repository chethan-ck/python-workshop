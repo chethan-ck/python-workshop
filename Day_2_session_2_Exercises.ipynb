{
  "nbformat": 4,
  "nbformat_minor": 0,
  "metadata": {
    "colab": {
      "name": "Day 2 session 2 Exercises",
      "provenance": [],
      "collapsed_sections": [],
      "authorship_tag": "ABX9TyO6DbRGio5djRrEREMSyCLA",
      "include_colab_link": true
    },
    "kernelspec": {
      "name": "python3",
      "display_name": "Python 3"
    }
  },
  "cells": [
    {
      "cell_type": "markdown",
      "metadata": {
        "id": "view-in-github",
        "colab_type": "text"
      },
      "source": [
        "<a href=\"https://colab.research.google.com/github/chethan-ck/python-workshop/blob/master/Day_2_session_2_Exercises.ipynb\" target=\"_parent\"><img src=\"https://colab.research.google.com/assets/colab-badge.svg\" alt=\"Open In Colab\"/></a>"
      ]
    },
    {
      "cell_type": "markdown",
      "metadata": {
        "id": "qaEm4z6cG6UD",
        "colab_type": "text"
      },
      "source": [
        "#Dictionary Exercises"
      ]
    },
    {
      "cell_type": "markdown",
      "metadata": {
        "id": "uweGi6DbHAUm",
        "colab_type": "text"
      },
      "source": [
        "#Add rollno and marks {name:mark} for n number of students through keyboard in a dictionary and print the marks in descending order with respective name."
      ]
    },
    {
      "cell_type": "code",
      "metadata": {
        "id": "xk3FN2bWG07x",
        "colab_type": "code",
        "colab": {
          "base_uri": "https://localhost:8080/",
          "height": 151
        },
        "outputId": "cc8b5ccb-7c09-4ee0-8054-9717166e58b5"
      },
      "source": [
        "dict={}\n",
        "n=int(input(\"enter the no of students\"))\n",
        "for i in range(n):\n",
        "  name=input(\"Enter the name\")\n",
        "  marks=int(input(\"Enter the marks\"))\n",
        "  dict[name]=marks\n",
        "print(dict)\n",
        "d1=dict.items()\n",
        "sort=sorted(d1,reverse=True);\n",
        "print(\"The sorted dictionary is\")\n",
        "print(sort)"
      ],
      "execution_count": 1,
      "outputs": [
        {
          "output_type": "stream",
          "text": [
            "enter the no of students2\n",
            "Enter the namechethan\n",
            "Enter the marks89\n",
            "Enter the namerichard\n",
            "Enter the marks95\n",
            "{'chethan': 89, 'richard': 95}\n",
            "The sorted dictionary is\n",
            "[('richard', 95), ('chethan', 89)]\n"
          ],
          "name": "stdout"
        }
      ]
    },
    {
      "cell_type": "markdown",
      "metadata": {
        "id": "AqFckusBHGol",
        "colab_type": "text"
      },
      "source": [
        "#Add name and salary {name:salary} for n number of employees through keyboard in a dictionary and print them in name alphabetical order with salary"
      ]
    },
    {
      "cell_type": "code",
      "metadata": {
        "id": "VFLxWv-XHKTy",
        "colab_type": "code",
        "colab": {
          "base_uri": "https://localhost:8080/",
          "height": 151
        },
        "outputId": "28f7ab09-e7e2-40ba-85d3-231ca1d4a668"
      },
      "source": [
        "dict1={}\n",
        "n=int(input(\"enter the no of employees\"))\n",
        "for i in range(n):\n",
        "  name=input(\"Enter the name\")\n",
        "  salary=int(input(\"Enter the salary\"))\n",
        "  dict1[name]=salary\n",
        "print(dict1)\n",
        "d2=dict1.items()\n",
        "sort=sorted(d2);\n",
        "print(\"The sorted dictionary is\")\n",
        "print(sort)"
      ],
      "execution_count": 2,
      "outputs": [
        {
          "output_type": "stream",
          "text": [
            "enter the no of employees2\n",
            "Enter the nameram\n",
            "Enter the salary45000\n",
            "Enter the nameravi\n",
            "Enter the salary65000\n",
            "{'ram': 45000, 'ravi': 65000}\n",
            "The sorted dictionary is\n",
            "[('ram', 45000), ('ravi', 65000)]\n"
          ],
          "name": "stdout"
        }
      ]
    },
    {
      "cell_type": "markdown",
      "metadata": {
        "id": "CPfYOH5eHafh",
        "colab_type": "text"
      },
      "source": [
        "#Add name and salary {name:salary} for n number of employees through keyboard in a dictionary and print them in salary ascending order and sum, max, min and average of the salaries"
      ]
    },
    {
      "cell_type": "code",
      "metadata": {
        "id": "RfKlOWIkHfMR",
        "colab_type": "code",
        "colab": {
          "base_uri": "https://localhost:8080/",
          "height": 269
        },
        "outputId": "82a83847-9d0a-4705-9014-b128d0bfaba6"
      },
      "source": [
        "import statistics\n",
        "dict={}\n",
        "n=int(input(\"enter the no of employees\"))\n",
        "for i in range(n):\n",
        "  name=input(\"Enter the name\")\n",
        "  marks=int(input(\"Enter the salary\"))\n",
        "  dict[name]=marks\n",
        "print(dict)\n",
        "sort=sorted(dict.items(),key=lambda x:x[1]);\n",
        "print(\"The sorted dictionary is\")\n",
        "print(sort)\n",
        "print(\"The sum is\")\n",
        "print(sum(dict.values()))\n",
        "print(\"the maximum is\")\n",
        "max_val=max(dict,key=dict.get)\n",
        "print(max_val)\n",
        "print(\"the minimum is\")\n",
        "min_val=min(dict,key=dict.get)\n",
        "print(min_val)\n",
        " \n",
        "mean= statistics.mean(dict.values()) \n",
        " \n",
        "print(\"The average of salary is\",mean)"
      ],
      "execution_count": 3,
      "outputs": [
        {
          "output_type": "stream",
          "text": [
            "enter the no of employees2\n",
            "Enter the nameravi\n",
            "Enter the salary64000\n",
            "Enter the nameram\n",
            "Enter the salary34000\n",
            "{'ravi': 64000, 'ram': 34000}\n",
            "The sorted dictionary is\n",
            "[('ram', 34000), ('ravi', 64000)]\n",
            "The sum is\n",
            "98000\n",
            "the maximum is\n",
            "ravi\n",
            "the minimum is\n",
            "ram\n",
            "The average of salary is 49000\n"
          ],
          "name": "stdout"
        }
      ]
    },
    {
      "cell_type": "markdown",
      "metadata": {
        "id": "PncbaVqOHnzZ",
        "colab_type": "text"
      },
      "source": [
        "#Add name and salary {name:salary} for n number of employees through keyboard in a dictionary and print only the employees whose salary is greater than 2000 but less than 4000"
      ]
    },
    {
      "cell_type": "code",
      "metadata": {
        "id": "jaLulnImHrsp",
        "colab_type": "code",
        "colab": {
          "base_uri": "https://localhost:8080/",
          "height": 134
        },
        "outputId": "402aadc6-c997-4869-8f99-8d0160aa0508"
      },
      "source": [
        "dict={}\n",
        "n=int(input(\"enter the no of employees\"))\n",
        "for i in range(n):\n",
        "  name=input(\"Enter the name\")\n",
        "  marks=int(input(\"Enter the salary\"))\n",
        "  dict[name]=marks\n",
        "print(dict)\n",
        "res={key:val for key, val in dict.items() if val>2000 and val<4000}\n",
        "print(res)"
      ],
      "execution_count": 4,
      "outputs": [
        {
          "output_type": "stream",
          "text": [
            "enter the no of employees2\n",
            "Enter the nameram\n",
            "Enter the salary1600\n",
            "Enter the nameravi\n",
            "Enter the salary3600\n",
            "{'ram': 1600, 'ravi': 3600}\n",
            "{'ravi': 3600}\n"
          ],
          "name": "stdout"
        }
      ]
    },
    {
      "cell_type": "markdown",
      "metadata": {
        "id": "p0PWp0LdH_Fx",
        "colab_type": "text"
      },
      "source": [
        "#Python program to convert a 3 digit number into words"
      ]
    },
    {
      "cell_type": "code",
      "metadata": {
        "id": "A1N_VNKPIBQI",
        "colab_type": "code",
        "colab": {
          "base_uri": "https://localhost:8080/",
          "height": 50
        },
        "outputId": "77875e08-399d-429f-d0cb-00a651af4f56"
      },
      "source": [
        "d={10:'ten',11:'eleven',12:'twelve',13:'thirteen',14:'fourteen',15:'fifteen',16:'sixteen',\\\n",
        "   17:'seventeen',18:'eightteen',19:'nineteen',20:'twenty',30:'thirty',40:'fourty',50:'fifty',\\\n",
        "   60:'sixty',70:'seventy',80:'eighty',90:'ninty',100:'hundred',200:'two hundred',300:'three hundred'}\n",
        "\n",
        "num=int(input(\"Enter the integer between 10 to 300:\"))\n",
        "if (num<=90):\n",
        "      print(d[num])\n",
        "if(num>90 and num<300):\n",
        "        if num%10==0:       \n",
        "            print(d[num])\n",
        "        else:\n",
        "            print(d[num//10*10]+\" \"+d[num%10])"
      ],
      "execution_count": 5,
      "outputs": [
        {
          "output_type": "stream",
          "text": [
            "Enter the integer between 10 to 300:100\n",
            "hundred\n"
          ],
          "name": "stdout"
        }
      ]
    },
    {
      "cell_type": "markdown",
      "metadata": {
        "id": "NkxJNzOjIOp5",
        "colab_type": "text"
      },
      "source": [
        "#Files Exercises"
      ]
    },
    {
      "cell_type": "markdown",
      "metadata": {
        "id": "TcpQ9mMkISC4",
        "colab_type": "text"
      },
      "source": [
        "#Python Program to count the total number of charaters (except blank space) in a text file"
      ]
    },
    {
      "cell_type": "code",
      "metadata": {
        "id": "9XfVf8CUIa94",
        "colab_type": "code",
        "colab": {
          "base_uri": "https://localhost:8080/",
          "height": 34
        },
        "outputId": "6076acf1-51ba-4c53-ced9-ca68fa1e2f87"
      },
      "source": [
        "file = open(\"/content/sample_data/file.txt\",\"r\")\n",
        "data = file.read().replace(\" \",\"\")\n",
        "number_of_characters = len(data)\n",
        "print('Number of characters in text file :', number_of_characters)"
      ],
      "execution_count": 6,
      "outputs": [
        {
          "output_type": "stream",
          "text": [
            "Number of characters in text file : 66\n"
          ],
          "name": "stdout"
        }
      ]
    },
    {
      "cell_type": "markdown",
      "metadata": {
        "id": "iadQPyWvJAg4",
        "colab_type": "text"
      },
      "source": [
        "#Python Program to print all the numbers present in a text file with its total number of occurrence."
      ]
    },
    {
      "cell_type": "code",
      "metadata": {
        "id": "DXcXnlqeJD3m",
        "colab_type": "code",
        "colab": {
          "base_uri": "https://localhost:8080/",
          "height": 50
        },
        "outputId": "35c600d0-0e9e-423b-fef0-2787b1ce64b1"
      },
      "source": [
        "fname = input(\"Enter the name of the file:\")\n",
        "infile = open(fname, 'r')\n",
        "content = infile.readlines() \n",
        "a = 0\n",
        "for line in content: \n",
        "    for i in line:  \n",
        "        if i.isdigit() == True: \n",
        "          a=a+1\n",
        "print(\"The total numbers in a text file is:\", a)"
      ],
      "execution_count": 7,
      "outputs": [
        {
          "output_type": "stream",
          "text": [
            "Enter the name of the file:/content/sample_data/file.txt\n",
            "The total numbers in a text file is: 2\n"
          ],
          "name": "stdout"
        }
      ]
    },
    {
      "cell_type": "markdown",
      "metadata": {
        "id": "vOXwkkIcJPC5",
        "colab_type": "text"
      },
      "source": [
        "#Python Program to append the contents of one file to another file"
      ]
    },
    {
      "cell_type": "code",
      "metadata": {
        "id": "YAX4lhpzJQ4_",
        "colab_type": "code",
        "colab": {
          "base_uri": "https://localhost:8080/",
          "height": 50
        },
        "outputId": "d08eab63-170c-4468-cc96-6b8110b62ab5"
      },
      "source": [
        "name1 = input(\"Enter file to be read from: \")\n",
        "name2 = input(\"Enter file to be appended to: \")\n",
        "fin = open(name1, \"r\")\n",
        "data2 = fin.read()\n",
        "fin.close()\n",
        "fout = open(name2, \"a\")\n",
        "fout.write(data2)\n",
        "fout.close()"
      ],
      "execution_count": 8,
      "outputs": [
        {
          "output_type": "stream",
          "text": [
            "Enter file to be read from: /content/sample_data/file.txt\n",
            "Enter file to be appended to: /content/sample_data/file1.txt\n"
          ],
          "name": "stdout"
        }
      ]
    },
    {
      "cell_type": "markdown",
      "metadata": {
        "id": "wzF5Jua0Jb7i",
        "colab_type": "text"
      },
      "source": [
        "#Python Program to count the number of blank spaces in a text file."
      ]
    },
    {
      "cell_type": "code",
      "metadata": {
        "id": "czXH55BjJf2e",
        "colab_type": "code",
        "colab": {
          "base_uri": "https://localhost:8080/",
          "height": 67
        },
        "outputId": "b0788c2b-3d19-48e5-eeb6-66565729e8f7"
      },
      "source": [
        "fname = input(\"Enter file name: \")\n",
        "k = 0\n",
        "\n",
        "with open(fname, 'r') as f:\n",
        "    for line in f:\n",
        "        words = line.split()\n",
        "        for i in words:\n",
        "            for letter in i:\n",
        "                if(letter.isspace):\n",
        "                    k=k+1\n",
        "print(\"Occurrences of blank spaces:\")\n",
        "print(k)"
      ],
      "execution_count": 9,
      "outputs": [
        {
          "output_type": "stream",
          "text": [
            "Enter file name: /content/sample_data/file.txt\n",
            "Occurrences of blank spaces:\n",
            "63\n"
          ],
          "name": "stdout"
        }
      ]
    },
    {
      "cell_type": "markdown",
      "metadata": {
        "id": "hJM5t5hEJmQ8",
        "colab_type": "text"
      },
      "source": [
        "#Python Program to read a file and capitalize the first letter of every word in the file and copy the every word capitalized content into another file and read it ."
      ]
    },
    {
      "cell_type": "code",
      "metadata": {
        "id": "0MXdk5tBJrDT",
        "colab_type": "code",
        "colab": {
          "base_uri": "https://localhost:8080/",
          "height": 151
        },
        "outputId": "930cadee-8975-4997-97fb-4bcb66c24212"
      },
      "source": [
        "fname = input(\"Enter file name: \")\n",
        "with open(fname, 'r') as f:\n",
        "    for line in f:\n",
        "        l=line.title()\n",
        "        print(l)"
      ],
      "execution_count": 10,
      "outputs": [
        {
          "output_type": "stream",
          "text": [
            "Enter file name: /content/sample_data/file.txt\n",
            "I Am Chethan Ck\n",
            "\n",
            "I Am Studying In Aiet\n",
            "\n",
            "I Am 20 Years Old\n",
            "\n",
            "I Am Doing Python Program\n"
          ],
          "name": "stdout"
        }
      ]
    }
  ]
}