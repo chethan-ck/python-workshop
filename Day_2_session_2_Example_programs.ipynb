{
  "nbformat": 4,
  "nbformat_minor": 0,
  "metadata": {
    "colab": {
      "name": "Day 2 session 2 Example programs",
      "provenance": [],
      "collapsed_sections": [],
      "authorship_tag": "ABX9TyNG/Yz8LjXZROAp44M4/Y5H",
      "include_colab_link": true
    },
    "kernelspec": {
      "name": "python3",
      "display_name": "Python 3"
    }
  },
  "cells": [
    {
      "cell_type": "markdown",
      "metadata": {
        "id": "view-in-github",
        "colab_type": "text"
      },
      "source": [
        "<a href=\"https://colab.research.google.com/github/chethan-ck/python-workshop/blob/master/Day_2_session_2_Example_programs.ipynb\" target=\"_parent\"><img src=\"https://colab.research.google.com/assets/colab-badge.svg\" alt=\"Open In Colab\"/></a>"
      ]
    },
    {
      "cell_type": "markdown",
      "metadata": {
        "id": "U-wGkeaI_Cno",
        "colab_type": "text"
      },
      "source": [
        "#Dictionary Worked out Examples"
      ]
    },
    {
      "cell_type": "markdown",
      "metadata": {
        "id": "kFH_6Z4a_NSu",
        "colab_type": "text"
      },
      "source": [
        "#dict.clear()\n",
        "#Removes all elements of dictionary dict"
      ]
    },
    {
      "cell_type": "code",
      "metadata": {
        "id": "oYC9__7U-8PM",
        "colab_type": "code",
        "colab": {
          "base_uri": "https://localhost:8080/",
          "height": 50
        },
        "outputId": "45faee9b-c830-425b-b711-0ce8fc8b3b78"
      },
      "source": [
        "dict = {'Name': 'Zara', 'Age': 7};\n",
        "print(\"Start Len : %d\" %  len(dict))\n",
        "dict.clear()\n",
        "print(\"End Len : %d\" %  len(dict))"
      ],
      "execution_count": 1,
      "outputs": [
        {
          "output_type": "stream",
          "text": [
            "Start Len : 2\n",
            "End Len : 0\n"
          ],
          "name": "stdout"
        }
      ]
    },
    {
      "cell_type": "markdown",
      "metadata": {
        "id": "YuHmrkWl_Vg5",
        "colab_type": "text"
      },
      "source": [
        "#dict.items()\n",
        "#Returns a list of dict's (key, value) tuple pairs"
      ]
    },
    {
      "cell_type": "code",
      "metadata": {
        "id": "3gRzWPk7_Z-Y",
        "colab_type": "code",
        "colab": {
          "base_uri": "https://localhost:8080/",
          "height": 34
        },
        "outputId": "3f194ac3-3fb6-49df-90f0-4c34eb0f1e9a"
      },
      "source": [
        "dict = {'Name': 'Zara', 'Age': 7}\n",
        "print (\"Value : %s\" %  dict.items())"
      ],
      "execution_count": 2,
      "outputs": [
        {
          "output_type": "stream",
          "text": [
            "Value : dict_items([('Name', 'Zara'), ('Age', 7)])\n"
          ],
          "name": "stdout"
        }
      ]
    },
    {
      "cell_type": "markdown",
      "metadata": {
        "id": "d0GeRvzo_cio",
        "colab_type": "text"
      },
      "source": [
        "#dict.copy()\n",
        "#Returns a copy of dictionary dict"
      ]
    },
    {
      "cell_type": "code",
      "metadata": {
        "id": "k64eDwM6_giI",
        "colab_type": "code",
        "colab": {
          "base_uri": "https://localhost:8080/",
          "height": 34
        },
        "outputId": "3973fea1-b1ca-4f29-e1c3-05221332d520"
      },
      "source": [
        "dict1 = {'Name': 'Zara', 'Age': 7};\n",
        "dict2 = dict1.copy()\n",
        "print (\"New Dictinary : %s\" %  str(dict2))"
      ],
      "execution_count": 3,
      "outputs": [
        {
          "output_type": "stream",
          "text": [
            "New Dictinary : {'Name': 'Zara', 'Age': 7}\n"
          ],
          "name": "stdout"
        }
      ]
    },
    {
      "cell_type": "markdown",
      "metadata": {
        "id": "0BbbXQZ5_j2d",
        "colab_type": "text"
      },
      "source": [
        "#Python Program to Generate a Dictionary that Contains Numbers (between 1 and n) in the Form (x,x*x)."
      ]
    },
    {
      "cell_type": "code",
      "metadata": {
        "id": "e342NUwX_nar",
        "colab_type": "code",
        "colab": {
          "base_uri": "https://localhost:8080/",
          "height": 50
        },
        "outputId": "68860f43-a893-4b52-dbbd-9dbaaee57db2"
      },
      "source": [
        "n=int(input(\"Enter a number:\"))\n",
        "d={x:x*x for x in range(1,n+1)}\n",
        "print(d)"
      ],
      "execution_count": 4,
      "outputs": [
        {
          "output_type": "stream",
          "text": [
            "Enter a number:5\n",
            "{1: 1, 2: 4, 3: 9, 4: 16, 5: 25}\n"
          ],
          "name": "stdout"
        }
      ]
    },
    {
      "cell_type": "markdown",
      "metadata": {
        "id": "9fihaiVp_sbr",
        "colab_type": "text"
      },
      "source": [
        "#Python Program to Sum All the Items in a Dictionary"
      ]
    },
    {
      "cell_type": "code",
      "metadata": {
        "id": "_OW5bgT4_v9L",
        "colab_type": "code",
        "colab": {
          "base_uri": "https://localhost:8080/",
          "height": 50
        },
        "outputId": "83d9a39b-3c4a-45ad-eda6-25d5074478bb"
      },
      "source": [
        "d={'A':100,'B':540,'C':239}\n",
        "print(\"Total sum of values in the dictionary:\")\n",
        "print(sum(d.values()))"
      ],
      "execution_count": 5,
      "outputs": [
        {
          "output_type": "stream",
          "text": [
            "Total sum of values in the dictionary:\n",
            "879\n"
          ],
          "name": "stdout"
        }
      ]
    },
    {
      "cell_type": "markdown",
      "metadata": {
        "id": "Mlq6UtqI_z0x",
        "colab_type": "text"
      },
      "source": [
        "#Python Program to Remove the Given Key from a Dictionary"
      ]
    },
    {
      "cell_type": "code",
      "metadata": {
        "id": "x2tzDEG9_zaC",
        "colab_type": "code",
        "colab": {
          "base_uri": "https://localhost:8080/",
          "height": 101
        },
        "outputId": "fa2e550f-00bb-4cb7-f6c3-7a9bb3058e7d"
      },
      "source": [
        "d = {'a':1,'b':2,'c':3,'d':4}\n",
        "print(\"Initial dictionary\")\n",
        "print(d)\n",
        "key=input(\"Enter the key to delete(a-d):\")\n",
        "if key in d: \n",
        "    del d[key]\n",
        "else:\n",
        "    print(\"Key not found!\")\n",
        "    exit(0)\n",
        "print(\"Updated dictionary\")\n",
        "print(d)"
      ],
      "execution_count": 6,
      "outputs": [
        {
          "output_type": "stream",
          "text": [
            "Initial dictionary\n",
            "{'a': 1, 'b': 2, 'c': 3, 'd': 4}\n",
            "Enter the key to delete(a-d):c\n",
            "Updated dictionary\n",
            "{'a': 1, 'b': 2, 'd': 4}\n"
          ],
          "name": "stdout"
        }
      ]
    },
    {
      "cell_type": "markdown",
      "metadata": {
        "id": "4ybDFnUP__3o",
        "colab_type": "text"
      },
      "source": [
        "#Python Program to add name and mark as key->value pair in a Dictionary and print it."
      ]
    },
    {
      "cell_type": "code",
      "metadata": {
        "id": "FWZRd6uxAB2W",
        "colab_type": "code",
        "colab": {
          "base_uri": "https://localhost:8080/",
          "height": 185
        },
        "outputId": "02f7ff48-48c4-4481-f139-46b33a37609d"
      },
      "source": [
        "n=int(input(\"Enter no of records\"))\n",
        "d={}\n",
        "for i in range(1,n+1):\n",
        "    name= input(\"Enter name %d\"%(i))\n",
        "    mark=int(input(\"Enter mark %d\"%(i)))\n",
        "    d[name]=mark\n",
        "    print (d)"
      ],
      "execution_count": 7,
      "outputs": [
        {
          "output_type": "stream",
          "text": [
            "Enter no of records3\n",
            "Enter name 1chethan\n",
            "Enter mark 198\n",
            "{'chethan': 98}\n",
            "Enter name 2richard\n",
            "Enter mark 299\n",
            "{'chethan': 98, 'richard': 99}\n",
            "Enter name 3prajwal\n",
            "Enter mark 389\n",
            "{'chethan': 98, 'richard': 99, 'prajwal': 89}\n"
          ],
          "name": "stdout"
        }
      ]
    },
    {
      "cell_type": "markdown",
      "metadata": {
        "id": "ANaRkhAwAX49",
        "colab_type": "text"
      },
      "source": [
        "#Keys and Values example"
      ]
    },
    {
      "cell_type": "code",
      "metadata": {
        "id": "g08wItsNAcIE",
        "colab_type": "code",
        "colab": {
          "base_uri": "https://localhost:8080/",
          "height": 1000
        },
        "outputId": "21fbb816-a6ab-49a0-e251-9081a10d949c"
      },
      "source": [
        " d={}\n",
        " print (\" The dictionary elements are\")\n",
        " for i in range(1,21):\n",
        "     d[i]=i**2\n",
        " print (d)\n",
        " # To print key and values\n",
        " print (\" Key==> Value are\")\n",
        " for (k,v) in d.items():\t\n",
        "      print(k,\"==>\",v)\n",
        " # To print key only\n",
        "      print (\"\\nTo print key only\")\n",
        " for k in d.keys():\t\n",
        "       print(k, end=\" \")\n",
        "  #To print value only\n",
        "       print (\"\\nTo print values only\")\n",
        " for v in d.values():\t\n",
        "      print(v, end=\" \")"
      ],
      "execution_count": 22,
      "outputs": [
        {
          "output_type": "stream",
          "text": [
            " The dictionary elements are\n",
            "{1: 1, 2: 4, 3: 9, 4: 16, 5: 25, 6: 36, 7: 49, 8: 64, 9: 81, 10: 100, 11: 121, 12: 144, 13: 169, 14: 196, 15: 225, 16: 256, 17: 289, 18: 324, 19: 361, 20: 400}\n",
            " Key==> Value are\n",
            "1 ==> 1\n",
            "\n",
            "To print key only\n",
            "2 ==> 4\n",
            "\n",
            "To print key only\n",
            "3 ==> 9\n",
            "\n",
            "To print key only\n",
            "4 ==> 16\n",
            "\n",
            "To print key only\n",
            "5 ==> 25\n",
            "\n",
            "To print key only\n",
            "6 ==> 36\n",
            "\n",
            "To print key only\n",
            "7 ==> 49\n",
            "\n",
            "To print key only\n",
            "8 ==> 64\n",
            "\n",
            "To print key only\n",
            "9 ==> 81\n",
            "\n",
            "To print key only\n",
            "10 ==> 100\n",
            "\n",
            "To print key only\n",
            "11 ==> 121\n",
            "\n",
            "To print key only\n",
            "12 ==> 144\n",
            "\n",
            "To print key only\n",
            "13 ==> 169\n",
            "\n",
            "To print key only\n",
            "14 ==> 196\n",
            "\n",
            "To print key only\n",
            "15 ==> 225\n",
            "\n",
            "To print key only\n",
            "16 ==> 256\n",
            "\n",
            "To print key only\n",
            "17 ==> 289\n",
            "\n",
            "To print key only\n",
            "18 ==> 324\n",
            "\n",
            "To print key only\n",
            "19 ==> 361\n",
            "\n",
            "To print key only\n",
            "20 ==> 400\n",
            "\n",
            "To print key only\n",
            "1 \n",
            "To print values only\n",
            "2 \n",
            "To print values only\n",
            "3 \n",
            "To print values only\n",
            "4 \n",
            "To print values only\n",
            "5 \n",
            "To print values only\n",
            "6 \n",
            "To print values only\n",
            "7 \n",
            "To print values only\n",
            "8 \n",
            "To print values only\n",
            "9 \n",
            "To print values only\n",
            "10 \n",
            "To print values only\n",
            "11 \n",
            "To print values only\n",
            "12 \n",
            "To print values only\n",
            "13 \n",
            "To print values only\n",
            "14 \n",
            "To print values only\n",
            "15 \n",
            "To print values only\n",
            "16 \n",
            "To print values only\n",
            "17 \n",
            "To print values only\n",
            "18 \n",
            "To print values only\n",
            "19 \n",
            "To print values only\n",
            "20 \n",
            "To print values only\n",
            "1 4 9 16 25 36 49 64 81 100 121 144 169 196 225 256 289 324 361 400 "
          ],
          "name": "stdout"
        }
      ]
    },
    {
      "cell_type": "markdown",
      "metadata": {
        "id": "v114f4IhB4m3",
        "colab_type": "text"
      },
      "source": [
        "#Python program to convert 2 digit number into words"
      ]
    },
    {
      "cell_type": "code",
      "metadata": {
        "id": "S8dHPgWVB9IP",
        "colab_type": "code",
        "colab": {
          "base_uri": "https://localhost:8080/",
          "height": 50
        },
        "outputId": "a171353b-8508-407b-ed71-aa035f681167"
      },
      "source": [
        "d={0:'',1:'one',2:'two',3:'three',4:'four',5:'five',6:'six',7:'seven',8:'eight',9:'nine',\\\n",
        "   10:'ten',11:'eleven',12:'twelve',13:'thirteen',14:'fourteen',15:'fifteen',16:'sixteen',\\\n",
        "   17:'seventeen',18:'eightteen',19:'nineteen',20:'twenty',30:'thirty',40:'fourty',50:'fifty',\\\n",
        "   60:'sixty',70:'seventy',80:'eighty',90:'ninty'}\n",
        "\n",
        "num=int(input(\"Enter the integer between 1 to 99:\"))\n",
        "if (num<=20):\n",
        "      print(d[num])\n",
        "if(num>20 and num<100):\n",
        "        if num%10==0:       \n",
        "            print(d[num])\n",
        "        else:\n",
        "            print(d[num//10*10]+\" \"+d[num%10])"
      ],
      "execution_count": 23,
      "outputs": [
        {
          "output_type": "stream",
          "text": [
            "Enter the integer between 1 to 99:70\n",
            "seventy\n"
          ],
          "name": "stdout"
        }
      ]
    },
    {
      "cell_type": "markdown",
      "metadata": {
        "id": "YHOsi_wGCDKJ",
        "colab_type": "text"
      },
      "source": [
        "#How to sort a dictionary by values in Python"
      ]
    },
    {
      "cell_type": "code",
      "metadata": {
        "id": "xBop53AaCE59",
        "colab_type": "code",
        "colab": {
          "base_uri": "https://localhost:8080/",
          "height": 50
        },
        "outputId": "aad643f5-0096-4da3-c6b9-faddd9c7d1c6"
      },
      "source": [
        "d = {\"Pierre\": 42, \"Anne\": 33, \"Zoe\": 24}\n",
        "#Use the sorted function and operator module\n",
        "import operator\n",
        "sorted_d = sorted(d.items(), key=operator.itemgetter(1))\n",
        "print(sorted_d)\n",
        "sorted_a= sorted(d.items(), key=operator.itemgetter(1),reverse=True)\n",
        "print(sorted_a)"
      ],
      "execution_count": 24,
      "outputs": [
        {
          "output_type": "stream",
          "text": [
            "[('Zoe', 24), ('Anne', 33), ('Pierre', 42)]\n",
            "[('Pierre', 42), ('Anne', 33), ('Zoe', 24)]\n"
          ],
          "name": "stdout"
        }
      ]
    },
    {
      "cell_type": "markdown",
      "metadata": {
        "id": "vMCdVPW1CJ9c",
        "colab_type": "text"
      },
      "source": [
        "#Files Examples"
      ]
    },
    {
      "cell_type": "markdown",
      "metadata": {
        "id": "_BpZC6B_CNKE",
        "colab_type": "text"
      },
      "source": [
        "#Python Program to count the number of lines in a text file."
      ]
    },
    {
      "cell_type": "code",
      "metadata": {
        "id": "8RrpOwF6CQw0",
        "colab_type": "code",
        "colab": {
          "base_uri": "https://localhost:8080/",
          "height": 154
        },
        "outputId": "c2a02dbf-92c9-4da5-9c8e-0e205f1eb725"
      },
      "source": [
        "from google.colab import drive\n",
        "drive.mount('/content/drive')\n",
        "#Python Program to count the number of lines in a text file. \n",
        "file = '/content/sample_data/file.txt'\n",
        "num_lines = 0\n",
        "with open(file, 'r') as f:\n",
        "    for line in f:\n",
        "        num_lines += 1\n",
        "print(\"Number of lines:\")\n",
        "print(num_lines)"
      ],
      "execution_count": 25,
      "outputs": [
        {
          "output_type": "stream",
          "text": [
            "Go to this URL in a browser: https://accounts.google.com/o/oauth2/auth?client_id=947318989803-6bn6qk8qdgf4n4g3pfee6491hc0brc4i.apps.googleusercontent.com&redirect_uri=urn%3aietf%3awg%3aoauth%3a2.0%3aoob&response_type=code&scope=email%20https%3a%2f%2fwww.googleapis.com%2fauth%2fdocs.test%20https%3a%2f%2fwww.googleapis.com%2fauth%2fdrive%20https%3a%2f%2fwww.googleapis.com%2fauth%2fdrive.photos.readonly%20https%3a%2f%2fwww.googleapis.com%2fauth%2fpeopleapi.readonly\n",
            "\n",
            "Enter your authorization code:\n",
            "··········\n",
            "Mounted at /content/drive\n",
            "Number of lines:\n",
            "3\n"
          ],
          "name": "stdout"
        }
      ]
    },
    {
      "cell_type": "markdown",
      "metadata": {
        "id": "3DVmxuaaCxbo",
        "colab_type": "text"
      },
      "source": [
        "#Python Program to count the number of words in a text file."
      ]
    },
    {
      "cell_type": "code",
      "metadata": {
        "id": "AHJ0AAliC1Pu",
        "colab_type": "code",
        "colab": {
          "base_uri": "https://localhost:8080/",
          "height": 67
        },
        "outputId": "e532b240-b212-47cd-9905-afbb0264b21b"
      },
      "source": [
        "file = '/content/sample_data/file.txt'\n",
        "num_words = 0\n",
        "with open(file, 'r') as f:\n",
        "     for line in f:\n",
        "         words = line.split()\n",
        "print(words)\n",
        "num_words += len(words)\n",
        "print(\"Number of words:\")\n",
        "print(num_words)"
      ],
      "execution_count": 26,
      "outputs": [
        {
          "output_type": "stream",
          "text": [
            "['I', 'am', 'in', 'second', 'year']\n",
            "Number of words:\n",
            "5\n"
          ],
          "name": "stdout"
        }
      ]
    },
    {
      "cell_type": "markdown",
      "metadata": {
        "id": "c_cyFZd_C5-f",
        "colab_type": "text"
      },
      "source": [
        "#Python Program to count the occurrences of a word in a text file."
      ]
    },
    {
      "cell_type": "code",
      "metadata": {
        "id": "xfEEoVglC9mJ",
        "colab_type": "code",
        "colab": {
          "base_uri": "https://localhost:8080/",
          "height": 67
        },
        "outputId": "7ad2398b-539d-4cfe-fd63-d021f8451455"
      },
      "source": [
        "fname = '/content/sample_data/file.txt'\n",
        "word=input(\"Enter word to be searched:\")\n",
        "k = 0\n",
        "\n",
        "with open(fname, 'r') as f:\n",
        "     for line in f:\n",
        "        words = line.split()\n",
        "for i in words:\n",
        "    if(i==word):\n",
        "       k=k+1\n",
        "print(\"Occurrences of the word:\")\n",
        "print(k)"
      ],
      "execution_count": 27,
      "outputs": [
        {
          "output_type": "stream",
          "text": [
            "Enter word to be searched:am\n",
            "Occurrences of the word:\n",
            "1\n"
          ],
          "name": "stdout"
        }
      ]
    },
    {
      "cell_type": "markdown",
      "metadata": {
        "id": "9yIf2fUKDE2-",
        "colab_type": "text"
      },
      "source": [
        "#Python Program to copy the contents of one file into another."
      ]
    },
    {
      "cell_type": "code",
      "metadata": {
        "id": "ekFdCgp3DGxb",
        "colab_type": "code",
        "colab": {}
      },
      "source": [
        "file1 = '/content/sample_data/file.txt'\n",
        "file2 = '/content/sample_data/file1.txt'\n",
        "\n",
        "with open(file1,'r') as f:\n",
        "    with open(file2, \"w\") as f1:\n",
        "         for line in f:\n",
        "            f1.write(line)"
      ],
      "execution_count": 37,
      "outputs": []
    },
    {
      "cell_type": "markdown",
      "metadata": {
        "id": "cgm3s-_4DUPq",
        "colab_type": "text"
      },
      "source": [
        "#Python Program to read the contents of the file in reverse order."
      ]
    },
    {
      "cell_type": "code",
      "metadata": {
        "id": "mKDAgZh5Dbz9",
        "colab_type": "code",
        "colab": {
          "base_uri": "https://localhost:8080/",
          "height": 34
        },
        "outputId": "91dae7e6-220d-4d27-beda-445c483238c3"
      },
      "source": [
        "file = '/content/sample_data/file.txt'\n",
        "with open (file,'r') as f:\n",
        "    for line in f:\n",
        "        l=line.split()\n",
        "        l.reverse() \n",
        "st= \" \".join(l)\n",
        "print (st)\n"
      ],
      "execution_count": 36,
      "outputs": [
        {
          "output_type": "stream",
          "text": [
            "year second in am i\n"
          ],
          "name": "stdout"
        }
      ]
    }
  ]
}